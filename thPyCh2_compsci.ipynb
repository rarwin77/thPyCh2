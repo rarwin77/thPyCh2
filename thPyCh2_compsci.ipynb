{
 "cells": [
  {
   "cell_type": "markdown",
   "metadata": {},
   "source": [
    "### Chapter 2 - Variables, Expressions, and Statements"
   ]
  },
  {
   "cell_type": "code",
   "execution_count": 1,
   "metadata": {},
   "outputs": [
    {
     "name": "stdout",
     "output_type": "stream",
     "text": [
      "5\n"
     ]
    }
   ],
   "source": [
    "#Assignment Statements\n",
    "#eg. \"x gets 5\"\n",
    "x = 5 # this is assignment.  It stores a value in a variable.\n",
    "print(x)"
   ]
  },
  {
   "cell_type": "markdown",
   "metadata": {},
   "source": [
    "This instructs the computer to store or record a data value in a place in computer memory.\n",
    "What is memory?   _______\n",
    "- RAM - random access memory \n",
    " - stores on/off (or charged/not charged) - 2 states - binary until changed, or computer power is off (volatile) (fast)  \n",
    "-Hard Drive/Disk - also stores 0/1 - (persistent) (slow)\n",
    "to do: discuss binary/decimal numbers\n",
    "___\n",
    "One way we can visualize what is stored where is by drawing a state diagram, with each variable pointing with an arrow to its value.  \n",
    "x --> 5\n",
    "____"
   ]
  },
  {
   "cell_type": "code",
   "execution_count": 2,
   "metadata": {},
   "outputs": [
    {
     "ename": "NameError",
     "evalue": "name 'x' is not defined",
     "output_type": "error",
     "traceback": [
      "\u001b[1;31m---------------------------------------------------------------------------\u001b[0m",
      "\u001b[1;31mNameError\u001b[0m                                 Traceback (most recent call last)",
      "\u001b[1;32m~\\AppData\\Local\\Temp/ipykernel_5336/1353120783.py\u001b[0m in \u001b[0;36m<module>\u001b[1;34m\u001b[0m\n\u001b[1;32m----> 1\u001b[1;33m \u001b[0mprint\u001b[0m\u001b[1;33m(\u001b[0m\u001b[0mx\u001b[0m\u001b[1;33m)\u001b[0m\u001b[1;33m\u001b[0m\u001b[1;33m\u001b[0m\u001b[0m\n\u001b[0m",
      "\u001b[1;31mNameError\u001b[0m: name 'x' is not defined"
     ]
    }
   ],
   "source": [
    "print(x)"
   ]
  },
  {
   "cell_type": "markdown",
   "metadata": {},
   "source": [
    "Variable Names  \n",
    "Variable names should be descriptive and meaningful, without being too long/cumbersome (although they can be as long as you like).  They should document what the variable is used for. They can contain letters and numbers, but can't begin with a number.  You can use upper and lowercase letters, though one convention is to only use lowercase.  \n",
    "The underscore can appear in variable names and is used in place of a space.  \n",
    "E.g. my_variable = 3"
   ]
  },
  {
   "cell_type": "code",
   "execution_count": 3,
   "metadata": {},
   "outputs": [],
   "source": [
    "my_variable = 3  #this use of _ is called \"snake case\"\n",
    "#which is contrasted with \"camel case\"\n",
    "myVariable = 3  #Python typically uses snake case\n",
    "\n",
    "time_until_the_end_of_class = 28\n",
    "TimeUntilTheEndOfClass = time_until_the_end_of_class\n",
    "time_until_the_end_of_class = time_until_the_end_of_class - 2"
   ]
  },
  {
   "cell_type": "code",
   "execution_count": 4,
   "metadata": {},
   "outputs": [
    {
     "name": "stdout",
     "output_type": "stream",
     "text": [
      "4.5175395145262565 seconds\n"
     ]
    }
   ],
   "source": [
    "#5q = 4 #this will cause an error\n",
    "#experiment with other variable names that might give errors!\n",
    "#√x = 3\n",
    "#!myvar = 3\n",
    "#@var = 3\n",
    "#&var = 1\n",
    "CONSTANT_VAL_FOR_EARTH_GRAVITY = -9.8 # more on constants later\n",
    "start_height = 100\n",
    "# y = y0 + v0 * t + 1/2 a * t^2\n",
    "time_to_fall = (-start_height*2/CONSTANT_VAL_FOR_EARTH_GRAVITY)**(1/2)\n",
    "print(time_to_fall,\"seconds\")"
   ]
  },
  {
   "cell_type": "markdown",
   "metadata": {},
   "source": [
    "Reserved Keywords\n",
    "Python has some keywords that are illegal to use as variable names, because they are reserved for other purposes.  \n",
    "- False      class      finally    is         return\n",
    "- None       continue   for        lambda     try\n",
    "- True       def        from       nonlocal   while\n",
    "- and        del        global     not        with\n",
    "- as         elif       if         or         yield\n",
    "- assert     else       import     pass\n",
    "- break      except     in         raise"
   ]
  },
  {
   "cell_type": "code",
   "execution_count": 5,
   "metadata": {},
   "outputs": [
    {
     "name": "stdout",
     "output_type": "stream",
     "text": [
      "3\n"
     ]
    }
   ],
   "source": [
    "#str = 2\n",
    "#print(str)\n",
    "#print(str(3))"
   ]
  },
  {
   "cell_type": "markdown",
   "metadata": {},
   "source": [
    "____\n",
    "Expressions"
   ]
  },
  {
   "cell_type": "code",
   "execution_count": 6,
   "metadata": {},
   "outputs": [
    {
     "data": {
      "text/plain": [
       "42"
      ]
     },
     "execution_count": 6,
     "metadata": {},
     "output_type": "execute_result"
    }
   ],
   "source": [
    "#An expression is a combination of values, variables and operators, much like in math.\n",
    "42"
   ]
  },
  {
   "cell_type": "code",
   "execution_count": 7,
   "metadata": {},
   "outputs": [
    {
     "data": {
      "text/plain": [
       "42"
      ]
     },
     "execution_count": 7,
     "metadata": {},
     "output_type": "execute_result"
    }
   ],
   "source": [
    "6*7"
   ]
  },
  {
   "cell_type": "code",
   "execution_count": 8,
   "metadata": {},
   "outputs": [
    {
     "data": {
      "text/plain": [
       "42"
      ]
     },
     "execution_count": 8,
     "metadata": {},
     "output_type": "execute_result"
    }
   ],
   "source": [
    "x+37"
   ]
  },
  {
   "cell_type": "code",
   "execution_count": 9,
   "metadata": {},
   "outputs": [
    {
     "name": "stdout",
     "output_type": "stream",
     "text": [
      "12\n"
     ]
    }
   ],
   "source": [
    "#a statement is a unit of code that has an effect, like creating a variable or displaying something\n",
    "y = 12\n",
    "print(y)"
   ]
  },
  {
   "cell_type": "code",
   "execution_count": 10,
   "metadata": {},
   "outputs": [],
   "source": [
    "#experiment with some expressions and statements\n"
   ]
  },
  {
   "cell_type": "markdown",
   "metadata": {},
   "source": [
    "____\n",
    "Script/interactive mode"
   ]
  },
  {
   "cell_type": "markdown",
   "metadata": {},
   "source": [
    "-Python can work in interactive mode or script mode.  \n",
    "-Jupyter behaves a bit like a hybrid of the two."
   ]
  },
  {
   "cell_type": "code",
   "execution_count": 2,
   "metadata": {},
   "outputs": [
    {
     "data": {
      "text/plain": [
       "77"
      ]
     },
     "execution_count": 2,
     "metadata": {},
     "output_type": "execute_result"
    }
   ],
   "source": [
    "from testing_script import my_test_variable\n",
    "my_test_variable"
   ]
  },
  {
   "cell_type": "code",
   "execution_count": 3,
   "metadata": {},
   "outputs": [
    {
     "data": {
      "text/plain": [
       "77"
      ]
     },
     "execution_count": 3,
     "metadata": {},
     "output_type": "execute_result"
    }
   ],
   "source": [
    "from testing_script import * #this is a little more risky\n",
    "#you risk having variable/function name overwrites\n",
    "my_test_variable"
   ]
  },
  {
   "cell_type": "markdown",
   "metadata": {},
   "source": [
    "String operations\n"
   ]
  },
  {
   "cell_type": "code",
   "execution_count": 7,
   "metadata": {},
   "outputs": [
    {
     "data": {
      "text/plain": [
       "'hello world'"
      ]
     },
     "execution_count": 7,
     "metadata": {},
     "output_type": "execute_result"
    }
   ],
   "source": [
    "#you can \"add\" or concatenate strings, or \"multiply\" or repeat strings\n",
    "\"hello\"+ \" \" + \"world\"\n"
   ]
  },
  {
   "cell_type": "code",
   "execution_count": 8,
   "metadata": {},
   "outputs": [
    {
     "data": {
      "text/plain": [
       "'hello hello hello hello hello '"
      ]
     },
     "execution_count": 8,
     "metadata": {},
     "output_type": "execute_result"
    }
   ],
   "source": [
    "\"hello \" * 5"
   ]
  },
  {
   "cell_type": "markdown",
   "metadata": {},
   "source": [
    "Comments"
   ]
  },
  {
   "cell_type": "code",
   "execution_count": 4,
   "metadata": {},
   "outputs": [],
   "source": [
    "#code in python can be \"commented\" by beginning the comment with a #\n",
    "#however, the comment status only lasts until the end of the line\n",
    "# '''\n",
    "# You can, however, make block comments in some environments by using three apostrophes! \n",
    "# This occasionally can cause some errors, though, so be alert!\n",
    "# '''\n",
    "#for example, jupyter doesn't really properly handle block comments"
   ]
  },
  {
   "cell_type": "markdown",
   "metadata": {},
   "source": [
    "### Exercises"
   ]
  },
  {
   "cell_type": "markdown",
   "metadata": {},
   "source": [
    "Exercise 1  \n",
    "Repeating my advice from the previous chapter, whenever you learn a new feature, you should try it out in interactive mode and make errors on purpose to see what goes wrong.\n",
    "We’ve seen that n = 42 is legal. What about 42 = n?\n",
    "How about x = y = 1?\n",
    "In some languages every statement ends with a semi-colon, ;. What happens if you put a semi-colon at the end of a Python statement?\n",
    "What if you put a period at the end of a statement?\n",
    "In math notation you can multiply x and y like this: x y. What happens if you try that in Python?\n"
   ]
  },
  {
   "cell_type": "code",
   "execution_count": 26,
   "metadata": {},
   "outputs": [
    {
     "name": "stdout",
     "output_type": "stream",
     "text": [
      "1\n",
      "1\n",
      "2\n"
     ]
    }
   ],
   "source": [
    "#42 = n is illegal because the variable name always has to come first\n",
    "x=y=1 #works, x and y both = 1\n",
    "print(x)\n",
    "print(y)\n",
    "print(x+y); #semicolon at the end of a statement works\n",
    "#xy gives an error, because it acts as a new variable\n"
   ]
  },
  {
   "cell_type": "markdown",
   "metadata": {},
   "source": [
    "Exercise 2  \n",
    "Practice using the Python interpreter as a calculator:\n",
    "The volume of a sphere with radius r is 4/3 π r3. What is the volume of a sphere with radius 5?\n",
    "Suppose the cover price of a book is  24.95 but bookstores get a 40 percent discount. Shipping costs $3 for the first copy and 75 cents for each additional copy. What is the total wholesale cost for 60 copies?\n",
    "If I leave my house at 6:52 am and run 1 mile at an easy pace (8:15 per mile), then 3 miles at tempo (7:12 per mile) and 1 mile at easy pace again, what time do I get home for breakfast?"
   ]
  },
  {
   "cell_type": "code",
   "execution_count": 26,
   "metadata": {
    "scrolled": true
   },
   "outputs": [
    {
     "name": "stdout",
     "output_type": "stream",
     "text": [
      "start time: 6.866666666666667\n",
      "2 miles: 0.275\n",
      "3 miles: 0.36\n",
      "total: 7.501666666666668\n",
      "hour: 7.0 minute: 30.0 second: 6.0\n"
     ]
    }
   ],
   "source": [
    "# import math\n",
    "# r=input()\n",
    "# r=int(r)\n",
    "# print(\"volume of sphere: \"+str(4/3*math.pi*r**3))\n",
    "\n",
    "# discount=24.95*.4\n",
    "# final_price=(24.95-discount)\n",
    "# final_price=int(final_price)\n",
    "# copies=input(\"number of books you want to purchase: \")\n",
    "# copies=int(copies)\n",
    "# print(\"$\"+str(((final_price*copies)+3)+0.75*copies))\n",
    "\n",
    "\n",
    "actual_answer='7h30m6s'\n",
    "start_time=6+(52/60)\n",
    "print('start time: ' + str(start_time))\n",
    "twice_eight_fifteen=2*((8/60)+(15/3600))\n",
    "print('2 miles: ' + str(twice_eight_fifteen))\n",
    "thrice_seven_twelve=3*((7/60)+(12/3600))\n",
    "print('3 miles: ' + str(thrice_seven_twelve))\n",
    "total = start_time+twice_eight_fifteen+thrice_seven_twelve\n",
    "print('total: '+str(total))\n",
    "minutes = ((total-7)*60)\n",
    "hours=total//1\n",
    "seconds=((minutes-30)*60)\n",
    "end_time=('hour: '+str(hours)+' minute: '+str(minutes//1)+' second: '+str(seconds//1))\n",
    "print(end_time)"
   ]
  },
  {
   "cell_type": "markdown",
   "metadata": {},
   "source": [
    "# User input!"
   ]
  },
  {
   "cell_type": "code",
   "execution_count": 3,
   "metadata": {},
   "outputs": [
    {
     "name": "stdout",
     "output_type": "stream",
     "text": [
      "\n"
     ]
    }
   ],
   "source": [
    "x=input()"
   ]
  },
  {
   "cell_type": "code",
   "execution_count": 4,
   "metadata": {},
   "outputs": [
    {
     "data": {
      "text/plain": [
       "'H'"
      ]
     },
     "execution_count": 4,
     "metadata": {},
     "output_type": "execute_result"
    }
   ],
   "source": [
    "x_updated = \"H\"+ x[1:]\n",
    "x_updated"
   ]
  },
  {
   "cell_type": "code",
   "execution_count": 16,
   "metadata": {},
   "outputs": [
    {
     "name": "stdout",
     "output_type": "stream",
     "text": [
      "type a number! hello\n"
     ]
    }
   ],
   "source": [
    "my_in = input(\"type a number! \")"
   ]
  },
  {
   "cell_type": "code",
   "execution_count": 8,
   "metadata": {},
   "outputs": [
    {
     "data": {
      "text/plain": [
       "'93'"
      ]
     },
     "execution_count": 8,
     "metadata": {},
     "output_type": "execute_result"
    }
   ],
   "source": [
    "my_in + \"3\""
   ]
  },
  {
   "cell_type": "code",
   "execution_count": 9,
   "metadata": {},
   "outputs": [
    {
     "data": {
      "text/plain": [
       "12"
      ]
     },
     "execution_count": 9,
     "metadata": {},
     "output_type": "execute_result"
    }
   ],
   "source": [
    "3 + int(my_in)"
   ]
  },
  {
   "cell_type": "code",
   "execution_count": 10,
   "metadata": {},
   "outputs": [
    {
     "name": "stdout",
     "output_type": "stream",
     "text": [
      "type a thing hello\n",
      "hello\n"
     ]
    }
   ],
   "source": [
    "var1 = input(\"type a thing \")\n",
    "print(var1)"
   ]
  },
  {
   "cell_type": "code",
   "execution_count": 22,
   "metadata": {},
   "outputs": [],
   "source": [
    "#3 + int(my_keyboard_input)"
   ]
  },
  {
   "cell_type": "markdown",
   "metadata": {},
   "source": [
    "# Conditional Logic "
   ]
  },
  {
   "cell_type": "code",
   "execution_count": 10,
   "metadata": {},
   "outputs": [
    {
     "name": "stdout",
     "output_type": "stream",
     "text": [
      "Enter a one or two digit number 0\n",
      "Your number is non-positive!\n",
      "go team\n"
     ]
    }
   ],
   "source": [
    "x = input(\"Enter a one or two digit number \")\n",
    "x_int = int(x)\n",
    "if(x_int > 0):\n",
    "    print(\"Your number is positive\")\n",
    "    print(\"Hooray!\")\n",
    "else:\n",
    "    print(\"Your number is non-positive!\")\n",
    "    print(\"go team\")"
   ]
  },
  {
   "cell_type": "code",
   "execution_count": 11,
   "metadata": {},
   "outputs": [],
   "source": [
    "x_int = int(x)"
   ]
  },
  {
   "cell_type": "code",
   "execution_count": 9,
   "metadata": {},
   "outputs": [
    {
     "name": "stdout",
     "output_type": "stream",
     "text": [
      "Your number is non-positive!\n",
      "go team\n"
     ]
    }
   ],
   "source": [
    "if(x_int > 0):\n",
    "    print(\"Your number is positive\")\n",
    "    print(\"Hooray!\")\n",
    "else:\n",
    "    print(\"Your number is non-positive!\")\n",
    "    print(\"go team\")"
   ]
  },
  {
   "cell_type": "code",
   "execution_count": 11,
   "metadata": {},
   "outputs": [
    {
     "name": "stdout",
     "output_type": "stream",
     "text": [
      "x is zero!\n"
     ]
    }
   ],
   "source": [
    "#Sequential conditionals\n",
    "if(x_int == 0):\n",
    "    print(\"x is zero!\")\n",
    "elif(x_int > 0):\n",
    "    print(\"x is positive!\")\n",
    "else:\n",
    "    print(\"x is negative!\")"
   ]
  },
  {
   "cell_type": "code",
   "execution_count": 27,
   "metadata": {},
   "outputs": [
    {
     "name": "stdout",
     "output_type": "stream",
     "text": [
      "2\n"
     ]
    }
   ],
   "source": [
    "#New function for strings - len() short for Length.  Finds the # of characters in a string.\n",
    "print(len(x))"
   ]
  },
  {
   "cell_type": "code",
   "execution_count": 14,
   "metadata": {},
   "outputs": [
    {
     "name": "stdout",
     "output_type": "stream",
     "text": [
      "Enter a one or two digit number 1\n",
      "Your number is positive and has 1 digit.\n"
     ]
    }
   ],
   "source": [
    "#Nested conditionals\n",
    "#want to make a pos/neg/zero classifier along with a digit count\n",
    "#5 different outcomes! \n",
    "# 0, pos 1digit, pos 2 digit, neg 1 digit, neg 2 digit\n",
    "x = input(\"Enter a one or two digit number \")\n",
    "x_int = int(x)\n",
    "\n",
    "if(x_int == 0):\n",
    "    print(\"Your number is zero and has 1 digit.\")\n",
    "elif(x_int > 0):\n",
    "    #this number is positive\n",
    "    if(len(x) == 1):\n",
    "        print(\"Your number is positive and has 1 digit.\")\n",
    "    else:\n",
    "        print(\"Your number is positive and has more than 1 digit.\")\n",
    "else:\n",
    "    #this number is negative\n",
    "    if(len(x) == 2):\n",
    "        print(\"Your number is negative and has 1 digit.\")\n",
    "    else:\n",
    "        print(\"Your number is negative and has more than 1 digit.\")"
   ]
  },
  {
   "cell_type": "markdown",
   "metadata": {},
   "source": [
    "# Two new operators "
   ]
  },
  {
   "cell_type": "code",
   "execution_count": 41,
   "metadata": {},
   "outputs": [
    {
     "name": "stdout",
     "output_type": "stream",
     "text": [
      "1\n",
      "0\n",
      "1\n",
      "-1\n"
     ]
    }
   ],
   "source": [
    "#you know +,-,*,/, **\n",
    "#New operators:\n",
    "#Floor Division   // - divide then round down\n",
    "print(3 // 3)\n",
    "print(1 // 2)\n",
    "print(4 // 3)\n",
    "print(- 1 // 3)"
   ]
  },
  {
   "cell_type": "code",
   "execution_count": 1,
   "metadata": {},
   "outputs": [
    {
     "name": "stdout",
     "output_type": "stream",
     "text": [
      "1\n",
      "1\n",
      "2\n",
      "Enter an integer1\n"
     ]
    }
   ],
   "source": [
    "# Modulus operator: % - does division and returns only the remainder x Remainder y\n",
    "print(5 % 4) #1 remainder 1\n",
    "print(7 % 2) # 3 remainder 1\n",
    "print(11 % 3) # 3 remainder 2\n",
    "#This is very useful for checking whether or not a number is evenly divisible by another\n",
    "x = int(input(\"Enter an integer\"))\n",
    "if(x % 2 == 0):\n",
    "    print(\"x is even\")"
   ]
  },
  {
   "cell_type": "code",
   "execution_count": null,
   "metadata": {},
   "outputs": [],
   "source": [
    "\n",
    "\n"
   ]
  },
  {
   "cell_type": "code",
   "execution_count": null,
   "metadata": {},
   "outputs": [],
   "source": []
  }
 ],
 "metadata": {
  "kernelspec": {
   "display_name": "Python 3 (ipykernel)",
   "language": "python",
   "name": "python3"
  },
  "language_info": {
   "codemirror_mode": {
    "name": "ipython",
    "version": 3
   },
   "file_extension": ".py",
   "mimetype": "text/x-python",
   "name": "python",
   "nbconvert_exporter": "python",
   "pygments_lexer": "ipython3",
   "version": "3.9.7"
  }
 },
 "nbformat": 4,
 "nbformat_minor": 4
}
